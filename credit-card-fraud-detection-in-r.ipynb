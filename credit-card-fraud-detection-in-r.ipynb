{
 "cells": [
  {
   "cell_type": "markdown",
   "id": "b06d8718",
   "metadata": {
    "papermill": {
     "duration": 0.008703,
     "end_time": "2023-02-12T03:32:41.349915",
     "exception": false,
     "start_time": "2023-02-12T03:32:41.341212",
     "status": "completed"
    },
    "tags": []
   },
   "source": [
    "<center><h1>Credit Card Fraud Detection in R</h1></center>\n",
    "<center><h3>Hemlata 15/05/2023</h3></center>"
   ]
  },
  {
   "cell_type": "markdown",
   "id": "9817caf4",
   "metadata": {
    "papermill": {
     "duration": 0.006299,
     "end_time": "2023-02-12T03:32:41.363268",
     "exception": false,
     "start_time": "2023-02-12T03:32:41.356969",
     "status": "completed"
    },
    "tags": []
   },
   "source": [
    "<div style=\"width:100%;text-align: center;\"> <img align=middle src=\"https://www.pngmart.com/files/3/Credit-Card-PNG-Free-Download.png\" alt=\"Heat beating\" style=\"height:200px;\"> </div>"
   ]
  },
  {
   "cell_type": "markdown",
   "id": "0b405b44",
   "metadata": {
    "papermill": {
     "duration": 0.006394,
     "end_time": "2023-02-12T03:32:41.376122",
     "exception": false,
     "start_time": "2023-02-12T03:32:41.369728",
     "status": "completed"
    },
    "tags": []
   },
   "source": [
    "<h3><b><center>Introduction</center></b></h3>"
   ]
  },
  {
   "cell_type": "markdown",
   "id": "0e0f10c9",
   "metadata": {
    "papermill": {
     "duration": 0.006526,
     "end_time": "2023-02-12T03:32:41.389226",
     "exception": false,
     "start_time": "2023-02-12T03:32:41.382700",
     "status": "completed"
    },
    "tags": []
   },
   "source": [
    "Credit card fraud is a major concern for financial institutions and consumers alike. Fraudulent transactions not only result in financial loses for banks, but can damage their reputation and lose the trust of customers. The increase in online transactions over the past decade has made real-time detection and prevention of financial fraud even more important.\n",
    "\n",
    "A dataset has been provided that contains credit card transactions over a period of 2 days from September 2013. The dataset is highly unbalanced - containing 492 fraudulent transactions out of 284,807 total. To maintain anonymity and confidentiality, most of the original features have been transformed into principle components. Only the features time, class and amount have been preserved in their original form. \n",
    "\n",
    "This notebook represents an attempt to analyse the data within the dataset and recommend a model that could be used for a practical credit card fraud detection system. \n",
    "\n",
    "**Project Outline**\n",
    "\n",
    "1. Importing libraries and dataset\n",
    "2. Data Exploration \n",
    "3. Data Manipulation\n",
    "4. Data Modelling\n",
    "    - 4.1 Logistic Regression\n",
    "    - 4.2 Naive Bayes Classifier \n",
    "    - 4.3 Decision Tree\n",
    "5. Results and Limitations\n",
    "6. Conclusion"
   ]
  },
  {
   "cell_type": "markdown",
   "id": "462892b9",
   "metadata": {
    "papermill": {
     "duration": 0.006299,
     "end_time": "2023-02-12T03:32:41.401966",
     "exception": false,
     "start_time": "2023-02-12T03:32:41.395667",
     "status": "completed"
    },
    "tags": []
   },
   "source": [
    "#### **1. Importing libraries and dataset**\n",
    "\n",
    "<a id=\"Importing libraries and dataset\"></a>"
   ]
  },
  {
   "cell_type": "code",
   "execution_count": 1,
   "id": "5863293a",
   "metadata": {
    "_kg_hide-input": true,
    "_kg_hide-output": true,
    "execution": {
     "iopub.execute_input": "2023-02-12T03:32:41.419640Z",
     "iopub.status.busy": "2023-02-12T03:32:41.417732Z",
     "iopub.status.idle": "2023-02-12T03:32:45.938127Z",
     "shell.execute_reply": "2023-02-12T03:32:45.936539Z"
    },
    "papermill": {
     "duration": 4.531646,
     "end_time": "2023-02-12T03:32:45.940164",
     "exception": false,
     "start_time": "2023-02-12T03:32:41.408518",
     "status": "completed"
    },
    "tags": [],
    "vscode": {
     "languageId": "r"
    }
   },
   "outputs": [
    {
     "name": "stderr",
     "output_type": "stream",
     "text": [
      "── \u001b[1mAttaching core tidyverse packages\u001b[22m ──────────────────────── tidyverse 2.0.0 ──\n",
      "\u001b[32m✔\u001b[39m \u001b[34mdplyr    \u001b[39m 1.1.4     \u001b[32m✔\u001b[39m \u001b[34mreadr    \u001b[39m 2.1.5\n",
      "\u001b[32m✔\u001b[39m \u001b[34mforcats  \u001b[39m 1.0.0     \u001b[32m✔\u001b[39m \u001b[34mstringr  \u001b[39m 1.5.1\n",
      "\u001b[32m✔\u001b[39m \u001b[34mggplot2  \u001b[39m 3.5.2     \u001b[32m✔\u001b[39m \u001b[34mtibble   \u001b[39m 3.3.0\n",
      "\u001b[32m✔\u001b[39m \u001b[34mlubridate\u001b[39m 1.9.4     \u001b[32m✔\u001b[39m \u001b[34mtidyr    \u001b[39m 1.3.1\n",
      "\u001b[32m✔\u001b[39m \u001b[34mpurrr    \u001b[39m 1.1.0     \n",
      "── \u001b[1mConflicts\u001b[22m ────────────────────────────────────────── tidyverse_conflicts() ──\n",
      "\u001b[31m✖\u001b[39m \u001b[34mdplyr\u001b[39m::\u001b[32mfilter()\u001b[39m masks \u001b[34mstats\u001b[39m::filter()\n",
      "\u001b[31m✖\u001b[39m \u001b[34mdplyr\u001b[39m::\u001b[32mlag()\u001b[39m    masks \u001b[34mstats\u001b[39m::lag()\n",
      "\u001b[36mℹ\u001b[39m Use the conflicted package (\u001b[3m\u001b[34m<http://conflicted.r-lib.org/>\u001b[39m\u001b[23m) to force all conflicts to become errors\n",
      "\n",
      "Attaching package: 'Hmisc'\n",
      "\n",
      "\n",
      "The following objects are masked from 'package:dplyr':\n",
      "\n",
      "    src, summarize\n",
      "\n",
      "\n",
      "The following objects are masked from 'package:base':\n",
      "\n",
      "    format.pval, units\n",
      "\n",
      "\n",
      "Loading required package: lattice\n",
      "\n",
      "\n",
      "Attaching package: 'caret'\n",
      "\n",
      "\n",
      "The following object is masked from 'package:purrr':\n",
      "\n",
      "    lift\n",
      "\n",
      "\n",
      "Loaded ROSE 0.0-4\n",
      "\n",
      "\n",
      "\n",
      "Attaching package: 'e1071'\n",
      "\n",
      "\n",
      "The following object is masked from 'package:Hmisc':\n",
      "\n",
      "    impute\n",
      "\n",
      "\n",
      "corrplot 0.95 loaded\n",
      "\n",
      "Loading required package: grid\n",
      "\n",
      "Loading required package: mvtnorm\n",
      "\n",
      "Loading required package: modeltools\n",
      "\n",
      "Loading required package: stats4\n",
      "\n",
      "Loading required package: strucchange\n",
      "\n",
      "Loading required package: zoo\n",
      "\n",
      "\n",
      "Attaching package: 'zoo'\n",
      "\n",
      "\n",
      "The following objects are masked from 'package:base':\n",
      "\n",
      "    as.Date, as.Date.numeric\n",
      "\n",
      "\n",
      "Loading required package: sandwich\n",
      "\n",
      "\n",
      "Attaching package: 'strucchange'\n",
      "\n",
      "\n",
      "The following object is masked from 'package:stringr':\n",
      "\n",
      "    boundary\n",
      "\n",
      "\n",
      "\n",
      "Attaching package: 'party'\n",
      "\n",
      "\n",
      "The following object is masked from 'package:dplyr':\n",
      "\n",
      "    where\n",
      "\n",
      "\n"
     ]
    }
   ],
   "source": [
    "library(tidyverse)\n",
    "library(Hmisc)\n",
    "library(caret)\n",
    "library(ROSE)\n",
    "library(ggplot2)\n",
    "#library(gridExtra)\n",
    "library(e1071)\n",
    "library(corrplot)\n",
    "library(broom)\n",
    "library(party)"
   ]
  },
  {
   "cell_type": "code",
   "execution_count": 2,
   "id": "bb8dc41b",
   "metadata": {
    "execution": {
     "iopub.execute_input": "2023-02-12T03:32:45.988152Z",
     "iopub.status.busy": "2023-02-12T03:32:45.959623Z",
     "iopub.status.idle": "2023-02-12T03:33:32.214777Z",
     "shell.execute_reply": "2023-02-12T03:33:32.213262Z"
    },
    "papermill": {
     "duration": 46.267998,
     "end_time": "2023-02-12T03:33:32.217318",
     "exception": false,
     "start_time": "2023-02-12T03:32:45.949320",
     "status": "completed"
    },
    "tags": [],
    "vscode": {
     "languageId": "r"
    }
   },
   "outputs": [],
   "source": [
    "# Load the dataset\n",
    "\n",
    "data <- read.csv('C:/Users/shank/OneDrive/Documents/creditcard.csv', stringsAsFactors = T)"
   ]
  },
  {
   "cell_type": "code",
   "execution_count": 3,
   "id": "dde547db",
   "metadata": {
    "execution": {
     "iopub.execute_input": "2023-02-12T03:33:32.237515Z",
     "iopub.status.busy": "2023-02-12T03:33:32.235672Z",
     "iopub.status.idle": "2023-02-12T03:33:32.272143Z",
     "shell.execute_reply": "2023-02-12T03:33:32.270132Z"
    },
    "papermill": {
     "duration": 0.048263,
     "end_time": "2023-02-12T03:33:32.274845",
     "exception": false,
     "start_time": "2023-02-12T03:33:32.226582",
     "status": "completed"
    },
    "tags": [],
    "vscode": {
     "languageId": "r"
    }
   },
   "outputs": [
    {
     "name": "stdout",
     "output_type": "stream",
     "text": [
      "'data.frame':\t284807 obs. of  31 variables:\n",
      " $ Time  : num  0 0 1 1 2 2 4 7 7 9 ...\n",
      " $ V1    : num  -1.36 1.192 -1.358 -0.966 -1.158 ...\n",
      " $ V2    : num  -0.0728 0.2662 -1.3402 -0.1852 0.8777 ...\n",
      " $ V3    : num  2.536 0.166 1.773 1.793 1.549 ...\n",
      " $ V4    : num  1.378 0.448 0.38 -0.863 0.403 ...\n",
      " $ V5    : num  -0.3383 0.06 -0.5032 -0.0103 -0.4072 ...\n",
      " $ V6    : num  0.4624 -0.0824 1.8005 1.2472 0.0959 ...\n",
      " $ V7    : num  0.2396 -0.0788 0.7915 0.2376 0.5929 ...\n",
      " $ V8    : num  0.0987 0.0851 0.2477 0.3774 -0.2705 ...\n",
      " $ V9    : num  0.364 -0.255 -1.515 -1.387 0.818 ...\n",
      " $ V10   : num  0.0908 -0.167 0.2076 -0.055 0.7531 ...\n",
      " $ V11   : num  -0.552 1.613 0.625 -0.226 -0.823 ...\n",
      " $ V12   : num  -0.6178 1.0652 0.0661 0.1782 0.5382 ...\n",
      " $ V13   : num  -0.991 0.489 0.717 0.508 1.346 ...\n",
      " $ V14   : num  -0.311 -0.144 -0.166 -0.288 -1.12 ...\n",
      " $ V15   : num  1.468 0.636 2.346 -0.631 0.175 ...\n",
      " $ V16   : num  -0.47 0.464 -2.89 -1.06 -0.451 ...\n",
      " $ V17   : num  0.208 -0.115 1.11 -0.684 -0.237 ...\n",
      " $ V18   : num  0.0258 -0.1834 -0.1214 1.9658 -0.0382 ...\n",
      " $ V19   : num  0.404 -0.146 -2.262 -1.233 0.803 ...\n",
      " $ V20   : num  0.2514 -0.0691 0.525 -0.208 0.4085 ...\n",
      " $ V21   : num  -0.01831 -0.22578 0.248 -0.1083 -0.00943 ...\n",
      " $ V22   : num  0.27784 -0.63867 0.77168 0.00527 0.79828 ...\n",
      " $ V23   : num  -0.11 0.101 0.909 -0.19 -0.137 ...\n",
      " $ V24   : num  0.0669 -0.3398 -0.6893 -1.1756 0.1413 ...\n",
      " $ V25   : num  0.129 0.167 -0.328 0.647 -0.206 ...\n",
      " $ V26   : num  -0.189 0.126 -0.139 -0.222 0.502 ...\n",
      " $ V27   : num  0.13356 -0.00898 -0.05535 0.06272 0.21942 ...\n",
      " $ V28   : num  -0.0211 0.0147 -0.0598 0.0615 0.2152 ...\n",
      " $ Amount: num  149.62 2.69 378.66 123.5 69.99 ...\n",
      " $ Class : int  0 0 0 0 0 0 0 0 0 0 ...\n"
     ]
    }
   ],
   "source": [
    "str(data)"
   ]
  },
  {
   "cell_type": "code",
   "execution_count": 4,
   "id": "63ebcbea",
   "metadata": {
    "_kg_hide-output": true,
    "execution": {
     "iopub.execute_input": "2023-02-12T03:33:32.294244Z",
     "iopub.status.busy": "2023-02-12T03:33:32.292892Z",
     "iopub.status.idle": "2023-02-12T03:33:32.315194Z",
     "shell.execute_reply": "2023-02-12T03:33:32.313612Z"
    },
    "papermill": {
     "duration": 0.034885,
     "end_time": "2023-02-12T03:33:32.317605",
     "exception": false,
     "start_time": "2023-02-12T03:33:32.282720",
     "status": "completed"
    },
    "tags": [],
    "vscode": {
     "languageId": "r"
    }
   },
   "outputs": [],
   "source": [
    "# Convert Class column into Factors\n",
    "\n",
    "data$Class <- as.factor(data$Class)\n",
    "levels(data$Class) <- c(\"Legit\", \"Fraud\")"
   ]
  },
  {
   "cell_type": "code",
   "execution_count": 5,
   "id": "04584c91",
   "metadata": {
    "execution": {
     "iopub.execute_input": "2023-02-12T03:33:32.337315Z",
     "iopub.status.busy": "2023-02-12T03:33:32.335993Z",
     "iopub.status.idle": "2023-02-12T03:33:32.348295Z",
     "shell.execute_reply": "2023-02-12T03:33:32.346716Z"
    },
    "papermill": {
     "duration": 0.024208,
     "end_time": "2023-02-12T03:33:32.350154",
     "exception": false,
     "start_time": "2023-02-12T03:33:32.325946",
     "status": "completed"
    },
    "tags": [],
    "vscode": {
     "languageId": "r"
    }
   },
   "outputs": [],
   "source": [
    "# function to set plot height and width\n",
    "fig <- function(width, heigth){\n",
    "     options(repr.plot.width = width, repr.plot.height = heigth)\n",
    "}"
   ]
  },
  {
   "cell_type": "markdown",
   "id": "1719b7bd",
   "metadata": {
    "papermill": {
     "duration": 0.008522,
     "end_time": "2023-02-12T03:33:32.367078",
     "exception": false,
     "start_time": "2023-02-12T03:33:32.358556",
     "status": "completed"
    },
    "tags": []
   },
   "source": [
    "#### **2. Data Exploration**\n",
    "\n",
    "<a id=\"Data Exploration\"></a>"
   ]
  },
  {
   "cell_type": "code",
   "execution_count": 6,
   "id": "38aea2e3",
   "metadata": {
    "_kg_hide-input": false,
    "_kg_hide-output": true,
    "execution": {
     "iopub.execute_input": "2023-02-12T03:33:32.386991Z",
     "iopub.status.busy": "2023-02-12T03:33:32.385466Z",
     "iopub.status.idle": "2023-02-12T03:33:36.024155Z",
     "shell.execute_reply": "2023-02-12T03:33:36.022912Z"
    },
    "papermill": {
     "duration": 3.651556,
     "end_time": "2023-02-12T03:33:36.026978",
     "exception": false,
     "start_time": "2023-02-12T03:33:32.375422",
     "status": "completed"
    },
    "tags": [],
    "vscode": {
     "languageId": "r"
    }
   },
   "outputs": [
    {
     "data": {
      "text/plain": [
       "      Time              V1                  V2                  V3          \n",
       " Min.   :     0   Min.   :-56.40751   Min.   :-72.71573   Min.   :-48.3256  \n",
       " 1st Qu.: 54202   1st Qu.: -0.92037   1st Qu.: -0.59855   1st Qu.: -0.8904  \n",
       " Median : 84692   Median :  0.01811   Median :  0.06549   Median :  0.1798  \n",
       " Mean   : 94814   Mean   :  0.00000   Mean   :  0.00000   Mean   :  0.0000  \n",
       " 3rd Qu.:139321   3rd Qu.:  1.31564   3rd Qu.:  0.80372   3rd Qu.:  1.0272  \n",
       " Max.   :172792   Max.   :  2.45493   Max.   : 22.05773   Max.   :  9.3826  \n",
       "       V4                 V5                   V6                 V7          \n",
       " Min.   :-5.68317   Min.   :-113.74331   Min.   :-26.1605   Min.   :-43.5572  \n",
       " 1st Qu.:-0.84864   1st Qu.:  -0.69160   1st Qu.: -0.7683   1st Qu.: -0.5541  \n",
       " Median :-0.01985   Median :  -0.05434   Median : -0.2742   Median :  0.0401  \n",
       " Mean   : 0.00000   Mean   :   0.00000   Mean   :  0.0000   Mean   :  0.0000  \n",
       " 3rd Qu.: 0.74334   3rd Qu.:   0.61193   3rd Qu.:  0.3986   3rd Qu.:  0.5704  \n",
       " Max.   :16.87534   Max.   :  34.80167   Max.   : 73.3016   Max.   :120.5895  \n",
       "       V8                  V9                 V10                 V11          \n",
       " Min.   :-73.21672   Min.   :-13.43407   Min.   :-24.58826   Min.   :-4.79747  \n",
       " 1st Qu.: -0.20863   1st Qu.: -0.64310   1st Qu.: -0.53543   1st Qu.:-0.76249  \n",
       " Median :  0.02236   Median : -0.05143   Median : -0.09292   Median :-0.03276  \n",
       " Mean   :  0.00000   Mean   :  0.00000   Mean   :  0.00000   Mean   : 0.00000  \n",
       " 3rd Qu.:  0.32735   3rd Qu.:  0.59714   3rd Qu.:  0.45392   3rd Qu.: 0.73959  \n",
       " Max.   : 20.00721   Max.   : 15.59499   Max.   : 23.74514   Max.   :12.01891  \n",
       "      V12                V13                V14                V15          \n",
       " Min.   :-18.6837   Min.   :-5.79188   Min.   :-19.2143   Min.   :-4.49894  \n",
       " 1st Qu.: -0.4056   1st Qu.:-0.64854   1st Qu.: -0.4256   1st Qu.:-0.58288  \n",
       " Median :  0.1400   Median :-0.01357   Median :  0.0506   Median : 0.04807  \n",
       " Mean   :  0.0000   Mean   : 0.00000   Mean   :  0.0000   Mean   : 0.00000  \n",
       " 3rd Qu.:  0.6182   3rd Qu.: 0.66251   3rd Qu.:  0.4931   3rd Qu.: 0.64882  \n",
       " Max.   :  7.8484   Max.   : 7.12688   Max.   : 10.5268   Max.   : 8.87774  \n",
       "      V16                 V17                 V18           \n",
       " Min.   :-14.12985   Min.   :-25.16280   Min.   :-9.498746  \n",
       " 1st Qu.: -0.46804   1st Qu.: -0.48375   1st Qu.:-0.498850  \n",
       " Median :  0.06641   Median : -0.06568   Median :-0.003636  \n",
       " Mean   :  0.00000   Mean   :  0.00000   Mean   : 0.000000  \n",
       " 3rd Qu.:  0.52330   3rd Qu.:  0.39968   3rd Qu.: 0.500807  \n",
       " Max.   : 17.31511   Max.   :  9.25353   Max.   : 5.041069  \n",
       "      V19                 V20                 V21           \n",
       " Min.   :-7.213527   Min.   :-54.49772   Min.   :-34.83038  \n",
       " 1st Qu.:-0.456299   1st Qu.: -0.21172   1st Qu.: -0.22839  \n",
       " Median : 0.003735   Median : -0.06248   Median : -0.02945  \n",
       " Mean   : 0.000000   Mean   :  0.00000   Mean   :  0.00000  \n",
       " 3rd Qu.: 0.458949   3rd Qu.:  0.13304   3rd Qu.:  0.18638  \n",
       " Max.   : 5.591971   Max.   : 39.42090   Max.   : 27.20284  \n",
       "      V22                  V23                 V24          \n",
       " Min.   :-10.933144   Min.   :-44.80774   Min.   :-2.83663  \n",
       " 1st Qu.: -0.542350   1st Qu.: -0.16185   1st Qu.:-0.35459  \n",
       " Median :  0.006782   Median : -0.01119   Median : 0.04098  \n",
       " Mean   :  0.000000   Mean   :  0.00000   Mean   : 0.00000  \n",
       " 3rd Qu.:  0.528554   3rd Qu.:  0.14764   3rd Qu.: 0.43953  \n",
       " Max.   : 10.503090   Max.   : 22.52841   Max.   : 4.58455  \n",
       "      V25                 V26                V27            \n",
       " Min.   :-10.29540   Min.   :-2.60455   Min.   :-22.565679  \n",
       " 1st Qu.: -0.31715   1st Qu.:-0.32698   1st Qu.: -0.070839  \n",
       " Median :  0.01659   Median :-0.05214   Median :  0.001342  \n",
       " Mean   :  0.00000   Mean   : 0.00000   Mean   :  0.000000  \n",
       " 3rd Qu.:  0.35072   3rd Qu.: 0.24095   3rd Qu.:  0.091045  \n",
       " Max.   :  7.51959   Max.   : 3.51735   Max.   : 31.612198  \n",
       "      V28                Amount           Class       \n",
       " Min.   :-15.43008   Min.   :    0.00   Legit:284315  \n",
       " 1st Qu.: -0.05296   1st Qu.:    5.60   Fraud:   492  \n",
       " Median :  0.01124   Median :   22.00                 \n",
       " Mean   :  0.00000   Mean   :   88.35                 \n",
       " 3rd Qu.:  0.07828   3rd Qu.:   77.17                 \n",
       " Max.   : 33.84781   Max.   :25691.16                 "
      ]
     },
     "metadata": {},
     "output_type": "display_data"
    }
   ],
   "source": [
    "summary(data)"
   ]
  },
  {
   "cell_type": "markdown",
   "id": "905ae87a",
   "metadata": {
    "papermill": {
     "duration": 0.007903,
     "end_time": "2023-02-12T03:33:36.042934",
     "exception": false,
     "start_time": "2023-02-12T03:33:36.035031",
     "status": "completed"
    },
    "tags": []
   },
   "source": [
    "The majority of the data has undergone PCA, limiting the amount of information that can be obtained from most features. However, the \"Amount\" and \"Class\" features could provide some insight of the data."
   ]
  },
  {
   "cell_type": "code",
   "execution_count": 7,
   "id": "056a7bce",
   "metadata": {
    "execution": {
     "iopub.execute_input": "2023-02-12T03:33:36.061600Z",
     "iopub.status.busy": "2023-02-12T03:33:36.060363Z",
     "iopub.status.idle": "2023-02-12T03:33:37.043801Z",
     "shell.execute_reply": "2023-02-12T03:33:37.042486Z"
    },
    "papermill": {
     "duration": 0.995231,
     "end_time": "2023-02-12T03:33:37.046123",
     "exception": false,
     "start_time": "2023-02-12T03:33:36.050892",
     "status": "completed"
    },
    "tags": [],
    "vscode": {
     "languageId": "r"
    }
   },
   "outputs": [
    {
     "data": {
      "image/png": "[encoded data removed]",
      "text/plain": [
       "plot without title"
      ]
     },
     "metadata": {
      "image/png": {
       "height": 360,
       "width": 600
      }
     },
     "output_type": "display_data"
    }
   ],
   "source": [
    "fig(10, 6)\n",
    "\n",
    "ggplot(data, aes(x=Class, fill = Class)) + geom_bar(color = \"black\") + \n",
    "ggtitle(\"Bar Distribution of Class\") + \n",
    "theme(plot.title = element_text(hjust = 0.5, face = \"bold\"))"
   ]
  },
  {
   "cell_type": "code",
   "execution_count": 8,
   "id": "e120d7dc",
   "metadata": {
    "execution": {
     "iopub.execute_input": "2023-02-12T03:33:37.065839Z",
     "iopub.status.busy": "2023-02-12T03:33:37.064621Z",
     "iopub.status.idle": "2023-02-12T03:33:37.102280Z",
     "shell.execute_reply": "2023-02-12T03:33:37.100220Z"
    },
    "papermill": {
     "duration": 0.050441,
     "end_time": "2023-02-12T03:33:37.105320",
     "exception": false,
     "start_time": "2023-02-12T03:33:37.054879",
     "status": "completed"
    },
    "tags": [],
    "vscode": {
     "languageId": "r"
    }
   },
   "outputs": [
    {
     "name": "stdout",
     "output_type": "stream",
     "text": [
      "  Class  Value Proportion\n",
      "1 Legit 284315    0.99827\n",
      "2 Fraud    492    0.00173\n"
     ]
    }
   ],
   "source": [
    "counts <- table(data$Class)\n",
    "result <- data.frame(table(data$Class), round(prop.table(counts), 5))\n",
    "noms <- c(\"Class\", \"Value\", \"none\", \"Proportion\")\n",
    "\n",
    "names(result) <- noms\n",
    "\n",
    "print(result[c(1,2,4)])"
   ]
  },
  {
   "cell_type": "markdown",
   "id": "0509b3a3",
   "metadata": {
    "papermill": {
     "duration": 0.008939,
     "end_time": "2023-02-12T03:33:37.123241",
     "exception": false,
     "start_time": "2023-02-12T03:33:37.114302",
     "status": "completed"
    },
    "tags": []
   },
   "source": [
    "* **Legit** cases constitute 99.8% (284315) of the dataset.\n",
    "* **Fraud** cases constitute 0.2% (492)\n",
    "\n",
    "As expected from the brief, analysis of the Class feature shows that the dataset is unbalanced and the vast majority of the cases are legitimate. Accuracy will not be an appropriate measure of performance here and AUC will be used instead."
   ]
  },
  {
   "cell_type": "code",
   "execution_count": 9,
   "id": "c679e797",
   "metadata": {
    "execution": {
     "iopub.execute_input": "2023-02-12T03:33:37.144783Z",
     "iopub.status.busy": "2023-02-12T03:33:37.143260Z",
     "iopub.status.idle": "2023-02-12T03:33:37.538812Z",
     "shell.execute_reply": "2023-02-12T03:33:37.537303Z"
    },
    "papermill": {
     "duration": 0.408689,
     "end_time": "2023-02-12T03:33:37.541119",
     "exception": false,
     "start_time": "2023-02-12T03:33:37.132430",
     "status": "completed"
    },
    "tags": [],
    "vscode": {
     "languageId": "r"
    }
   },
   "outputs": [
    {
     "data": {
      "image/png": "[encoded data removed]",
      "text/plain": [
       "plot without title"
      ]
     },
     "metadata": {
      "image/png": {
       "height": 360,
       "width": 600
      }
     },
     "output_type": "display_data"
    }
   ],
   "source": [
    "fig(10,6)\n",
    "\n",
    "p <- ggplot(data, aes(x=Amount)) + geom_histogram(fill = \"green\", color = \"black\", bins = 30) + \n",
    "ggtitle(\"Histogram Distribution of Amount\") + theme(plot.title = element_text(hjust = 0.5, face = \"bold\")) \n",
    "\n",
    "p \n"
   ]
  },
  {
   "cell_type": "code",
   "execution_count": 10,
   "id": "32d423c5",
   "metadata": {
    "execution": {
     "iopub.execute_input": "2023-02-12T03:33:37.562263Z",
     "iopub.status.busy": "2023-02-12T03:33:37.561061Z",
     "iopub.status.idle": "2023-02-12T03:33:37.617453Z",
     "shell.execute_reply": "2023-02-12T03:33:37.615994Z"
    },
    "papermill": {
     "duration": 0.069298,
     "end_time": "2023-02-12T03:33:37.619799",
     "exception": false,
     "start_time": "2023-02-12T03:33:37.550501",
     "status": "completed"
    },
    "tags": [],
    "vscode": {
     "languageId": "r"
    }
   },
   "outputs": [
    {
     "data": {
      "text/html": [
       "<style>\n",
       ".list-inline {list-style: none; margin:0; padding: 0}\n",
       ".list-inline>li {display: inline-block}\n",
       ".list-inline>li:not(:last-child)::after {content: \"\\00b7\"; padding: 0 .5ex}\n",
       "</style>\n",
       "<ol class=list-inline><li>184.52</li><li>25691.16</li></ol>\n"
      ],
      "text/latex": [
       "\\begin{enumerate*}\n",
       "\\item 184.52\n",
       "\\item 25691.16\n",
       "\\end{enumerate*}\n"
      ],
      "text/markdown": [
       "1. 184.52\n",
       "2. 25691.16\n",
       "\n",
       "\n"
      ],
      "text/plain": [
       "[1]   184.52 25691.16"
      ]
     },
     "metadata": {},
     "output_type": "display_data"
    }
   ],
   "source": [
    "# Function to find range of outliers in Amount\n",
    "\n",
    "find_outlier_range <- function(x){\n",
    "    outliers <- boxplot.stats(x)$out\n",
    "    return(range(outliers))\n",
    "}\n",
    "\n",
    "find_outlier_range(data$Amount)"
   ]
  },
  {
   "cell_type": "markdown",
   "id": "097aa450",
   "metadata": {
    "papermill": {
     "duration": 0.009626,
     "end_time": "2023-02-12T03:33:37.638919",
     "exception": false,
     "start_time": "2023-02-12T03:33:37.629293",
     "status": "completed"
    },
    "tags": []
   },
   "source": [
    "The histogram above shows that the vast majority of the transactions have low values. However, there are a non-neglible number of outliers with values ranging from 184.52 up to 25691.16 dollars. There is clearly a positive skew in the feature that will need to be considered during feature selection and modelling."
   ]
  },
  {
   "cell_type": "markdown",
   "id": "c1f872b3",
   "metadata": {
    "papermill": {
     "duration": 0.008836,
     "end_time": "2023-02-12T03:33:37.657019",
     "exception": false,
     "start_time": "2023-02-12T03:33:37.648183",
     "status": "completed"
    },
    "tags": []
   },
   "source": [
    "#### **3. Data Manipulation**\n",
    "\n",
    "<a id=\"Data Manipulation\"></a>"
   ]
  },
  {
   "cell_type": "code",
   "execution_count": 11,
   "id": "4e3a064f",
   "metadata": {
    "execution": {
     "iopub.execute_input": "2023-02-12T03:33:37.677234Z",
     "iopub.status.busy": "2023-02-12T03:33:37.675976Z",
     "iopub.status.idle": "2023-02-12T03:33:37.750338Z",
     "shell.execute_reply": "2023-02-12T03:33:37.748572Z"
    },
    "papermill": {
     "duration": 0.087207,
     "end_time": "2023-02-12T03:33:37.753097",
     "exception": false,
     "start_time": "2023-02-12T03:33:37.665890",
     "status": "completed"
    },
    "tags": [],
    "vscode": {
     "languageId": "r"
    }
   },
   "outputs": [
    {
     "data": {
      "text/html": [
       "<style>\n",
       ".dl-inline {width: auto; margin:0; padding: 0}\n",
       ".dl-inline>dt, .dl-inline>dd {float: none; width: auto; display: inline-block}\n",
       ".dl-inline>dt::after {content: \":\\0020\"; padding-right: .5ex}\n",
       ".dl-inline>dt:not(:first-of-type) {padding-left: .5ex}\n",
       "</style><dl class=dl-inline><dt>Time</dt><dd>0</dd><dt>V1</dt><dd>0</dd><dt>V2</dt><dd>0</dd><dt>V3</dt><dd>0</dd><dt>V4</dt><dd>0</dd><dt>V5</dt><dd>0</dd><dt>V6</dt><dd>0</dd><dt>V7</dt><dd>0</dd><dt>V8</dt><dd>0</dd><dt>V9</dt><dd>0</dd><dt>V10</dt><dd>0</dd><dt>V11</dt><dd>0</dd><dt>V12</dt><dd>0</dd><dt>V13</dt><dd>0</dd><dt>V14</dt><dd>0</dd><dt>V15</dt><dd>0</dd><dt>V16</dt><dd>0</dd><dt>V17</dt><dd>0</dd><dt>V18</dt><dd>0</dd><dt>V19</dt><dd>0</dd><dt>V20</dt><dd>0</dd><dt>V21</dt><dd>0</dd><dt>V22</dt><dd>0</dd><dt>V23</dt><dd>0</dd><dt>V24</dt><dd>0</dd><dt>V25</dt><dd>0</dd><dt>V26</dt><dd>0</dd><dt>V27</dt><dd>0</dd><dt>V28</dt><dd>0</dd><dt>Amount</dt><dd>0</dd><dt>Class</dt><dd>0</dd></dl>\n"
      ],
      "text/latex": [
       "\\begin{description*}\n",
       "\\item[Time] 0\n",
       "\\item[V1] 0\n",
       "\\item[V2] 0\n",
       "\\item[V3] 0\n",
       "\\item[V4] 0\n",
       "\\item[V5] 0\n",
       "\\item[V6] 0\n",
       "\\item[V7] 0\n",
       "\\item[V8] 0\n",
       "\\item[V9] 0\n",
       "\\item[V10] 0\n",
       "\\item[V11] 0\n",
       "\\item[V12] 0\n",
       "\\item[V13] 0\n",
       "\\item[V14] 0\n",
       "\\item[V15] 0\n",
       "\\item[V16] 0\n",
       "\\item[V17] 0\n",
       "\\item[V18] 0\n",
       "\\item[V19] 0\n",
       "\\item[V20] 0\n",
       "\\item[V21] 0\n",
       "\\item[V22] 0\n",
       "\\item[V23] 0\n",
       "\\item[V24] 0\n",
       "\\item[V25] 0\n",
       "\\item[V26] 0\n",
       "\\item[V27] 0\n",
       "\\item[V28] 0\n",
       "\\item[Amount] 0\n",
       "\\item[Class] 0\n",
       "\\end{description*}\n"
      ],
      "text/markdown": [
       "Time\n",
       ":   0V1\n",
       ":   0V2\n",
       ":   0V3\n",
       ":   0V4\n",
       ":   0V5\n",
       ":   0V6\n",
       ":   0V7\n",
       ":   0V8\n",
       ":   0V9\n",
       ":   0V10\n",
       ":   0V11\n",
       ":   0V12\n",
       ":   0V13\n",
       ":   0V14\n",
       ":   0V15\n",
       ":   0V16\n",
       ":   0V17\n",
       ":   0V18\n",
       ":   0V19\n",
       ":   0V20\n",
       ":   0V21\n",
       ":   0V22\n",
       ":   0V23\n",
       ":   0V24\n",
       ":   0V25\n",
       ":   0V26\n",
       ":   0V27\n",
       ":   0V28\n",
       ":   0Amount\n",
       ":   0Class\n",
       ":   0\n",
       "\n"
      ],
      "text/plain": [
       "  Time     V1     V2     V3     V4     V5     V6     V7     V8     V9    V10 \n",
       "     0      0      0      0      0      0      0      0      0      0      0 \n",
       "   V11    V12    V13    V14    V15    V16    V17    V18    V19    V20    V21 \n",
       "     0      0      0      0      0      0      0      0      0      0      0 \n",
       "   V22    V23    V24    V25    V26    V27    V28 Amount  Class \n",
       "     0      0      0      0      0      0      0      0      0 "
      ]
     },
     "metadata": {},
     "output_type": "display_data"
    },
    {
     "data": {
      "text/html": [
       "0"
      ],
      "text/latex": [
       "0"
      ],
      "text/markdown": [
       "0"
      ],
      "text/plain": [
       "[1] 0"
      ]
     },
     "metadata": {},
     "output_type": "display_data"
    }
   ],
   "source": [
    "# Check for missing values\n",
    "\n",
    "colSums(is.na(data))\n",
    "sum(is.na(data))"
   ]
  },
  {
   "cell_type": "markdown",
   "id": "f838ddf5",
   "metadata": {
    "papermill": {
     "duration": 0.009369,
     "end_time": "2023-02-12T03:33:37.772164",
     "exception": false,
     "start_time": "2023-02-12T03:33:37.762795",
     "status": "completed"
    },
    "tags": []
   },
   "source": [
    "There are no missing values in the dataset."
   ]
  },
  {
   "cell_type": "code",
   "execution_count": 12,
   "id": "1c4a2ebf",
   "metadata": {
    "execution": {
     "iopub.execute_input": "2023-02-12T03:33:37.793927Z",
     "iopub.status.busy": "2023-02-12T03:33:37.792662Z",
     "iopub.status.idle": "2023-02-12T03:33:42.426219Z",
     "shell.execute_reply": "2023-02-12T03:33:42.424592Z"
    },
    "papermill": {
     "duration": 4.646746,
     "end_time": "2023-02-12T03:33:42.428376",
     "exception": false,
     "start_time": "2023-02-12T03:33:37.781630",
     "status": "completed"
    },
    "tags": [],
    "vscode": {
     "languageId": "r"
    }
   },
   "outputs": [
    {
     "data": {
      "text/html": [
       "1081"
      ],
      "text/latex": [
       "1081"
      ],
      "text/markdown": [
       "1081"
      ],
      "text/plain": [
       "[1] 1081"
      ]
     },
     "metadata": {},
     "output_type": "display_data"
    }
   ],
   "source": [
    "# Check for duplicate rows\n",
    "\n",
    "sum(duplicated(data))\n",
    "\n",
    "# Remove any duplicate rows\n",
    "\n",
    "data <- distinct(data)"
   ]
  },
  {
   "cell_type": "markdown",
   "id": "76628583",
   "metadata": {
    "papermill": {
     "duration": 0.010202,
     "end_time": "2023-02-12T03:33:42.449024",
     "exception": false,
     "start_time": "2023-02-12T03:33:42.438822",
     "status": "completed"
    },
    "tags": []
   },
   "source": [
    "There are 1081 duplicate rows in the dataset which can be removed.\n",
    "\n",
    "Also the Time feature can be removed as each value is unique and provides no predictive power."
   ]
  },
  {
   "cell_type": "code",
   "execution_count": 13,
   "id": "a1506318",
   "metadata": {
    "execution": {
     "iopub.execute_input": "2023-02-12T03:33:42.472452Z",
     "iopub.status.busy": "2023-02-12T03:33:42.471011Z",
     "iopub.status.idle": "2023-02-12T03:33:42.482612Z",
     "shell.execute_reply": "2023-02-12T03:33:42.480960Z"
    },
    "papermill": {
     "duration": 0.024986,
     "end_time": "2023-02-12T03:33:42.484378",
     "exception": false,
     "start_time": "2023-02-12T03:33:42.459392",
     "status": "completed"
    },
    "tags": [],
    "vscode": {
     "languageId": "r"
    }
   },
   "outputs": [],
   "source": [
    "data$Time <- NULL"
   ]
  },
  {
   "cell_type": "code",
   "execution_count": 14,
   "id": "49ce0b65",
   "metadata": {
    "execution": {
     "iopub.execute_input": "2023-02-12T03:33:42.507671Z",
     "iopub.status.busy": "2023-02-12T03:33:42.506361Z",
     "iopub.status.idle": "2023-02-12T03:33:42.548361Z",
     "shell.execute_reply": "2023-02-12T03:33:42.547057Z"
    },
    "papermill": {
     "duration": 0.056032,
     "end_time": "2023-02-12T03:33:42.550182",
     "exception": false,
     "start_time": "2023-02-12T03:33:42.494150",
     "status": "completed"
    },
    "tags": [],
    "vscode": {
     "languageId": "r"
    }
   },
   "outputs": [
    {
     "data": {
      "text/plain": [
       "       V1           \n",
       " Min.   : -0.35333  \n",
       " 1st Qu.: -0.33096  \n",
       " Median : -0.26547  \n",
       " Mean   :  0.00000  \n",
       " 3rd Qu.: -0.04378  \n",
       " Max.   :102.24738  "
      ]
     },
     "metadata": {},
     "output_type": "display_data"
    }
   ],
   "source": [
    "# Standardise Amount feature\n",
    "\n",
    "data$Amount <- scale(data$Amount)\n",
    "\n",
    "summary(data$Amount)"
   ]
  },
  {
   "cell_type": "code",
   "execution_count": 15,
   "id": "e78a5c62",
   "metadata": {
    "execution": {
     "iopub.execute_input": "2023-02-12T03:33:42.572394Z",
     "iopub.status.busy": "2023-02-12T03:33:42.571171Z",
     "iopub.status.idle": "2023-02-12T03:33:43.705565Z",
     "shell.execute_reply": "2023-02-12T03:33:43.704215Z"
    },
    "papermill": {
     "duration": 1.148686,
     "end_time": "2023-02-12T03:33:43.708662",
     "exception": false,
     "start_time": "2023-02-12T03:33:42.559976",
     "status": "completed"
    },
    "tags": [],
    "vscode": {
     "languageId": "r"
    }
   },
   "outputs": [
    {
     "data": {
      "image/png": "[encoded data removed]",
      "text/plain": [
       "Plot with title \"\""
      ]
     },
     "metadata": {
      "image/png": {
       "height": 720,
       "width": 960
      }
     },
     "output_type": "display_data"
    }
   ],
   "source": [
    "fig(16,12)\n",
    "\n",
    "data2 <- data\n",
    "\n",
    "data2$Class <- as.numeric(data2$Class)\n",
    "\n",
    "corr <- cor(data2[], method = \"pearson\")\n",
    "\n",
    "corrplot(corr)"
   ]
  },
  {
   "cell_type": "markdown",
   "id": "d28fd5f3",
   "metadata": {
    "papermill": {
     "duration": 0.01217,
     "end_time": "2023-02-12T03:33:43.733049",
     "exception": false,
     "start_time": "2023-02-12T03:33:43.720879",
     "status": "completed"
    },
    "tags": []
   },
   "source": [
    "As the data has previously gone through PCA, there is little to no correlation between most of the features. Correlation between the target variable and the PCA features varys with no particular features standing out. "
   ]
  },
  {
   "cell_type": "markdown",
   "id": "6a798828",
   "metadata": {
    "papermill": {
     "duration": 0.011903,
     "end_time": "2023-02-12T03:33:43.756949",
     "exception": false,
     "start_time": "2023-02-12T03:33:43.745046",
     "status": "completed"
    },
    "tags": []
   },
   "source": [
    "#### **4. Data Modelling**\n",
    "\n",
    "<a id=\"Data Modelling\"></a>"
   ]
  },
  {
   "cell_type": "markdown",
   "id": "3540e21a",
   "metadata": {
    "papermill": {
     "duration": 0.011848,
     "end_time": "2023-02-12T03:33:43.780488",
     "exception": false,
     "start_time": "2023-02-12T03:33:43.768640",
     "status": "completed"
    },
    "tags": []
   },
   "source": [
    "\n",
    "The dataset will be split for training and testing, with 80% of the data used for training and 20% used for testing. The seed will also be set to reproduce results."
   ]
  },
  {
   "cell_type": "code",
   "execution_count": 16,
   "id": "93dff1c8",
   "metadata": {
    "execution": {
     "iopub.execute_input": "2023-02-12T03:33:43.807463Z",
     "iopub.status.busy": "2023-02-12T03:33:43.805739Z",
     "iopub.status.idle": "2023-02-12T03:33:44.089351Z",
     "shell.execute_reply": "2023-02-12T03:33:44.087782Z"
    },
    "papermill": {
     "duration": 0.298914,
     "end_time": "2023-02-12T03:33:44.091250",
     "exception": false,
     "start_time": "2023-02-12T03:33:43.792336",
     "status": "completed"
    },
    "tags": [],
    "vscode": {
     "languageId": "r"
    }
   },
   "outputs": [],
   "source": [
    "set.seed(123)\n",
    "\n",
    "indices <- createDataPartition(data$Class, p=0.8, list = F)\n",
    "trainData <- data[indices,]\n",
    "testData <- data[-indices,]"
   ]
  },
  {
   "cell_type": "markdown",
   "id": "4b9b4b5f",
   "metadata": {
    "papermill": {
     "duration": 0.012078,
     "end_time": "2023-02-12T03:33:44.115376",
     "exception": false,
     "start_time": "2023-02-12T03:33:44.103298",
     "status": "completed"
    },
    "tags": []
   },
   "source": [
    "We are going to be building using the following models: \n",
    "\n",
    "* Logistic Regression\n",
    "* Naive Bayes Classifier\n",
    "* Decision Tree\n",
    "\n",
    "**4.1 Logistic Regression**\n",
    "\n",
    "<a id=\"Logistic Regression\"></a>"
   ]
  },
  {
   "cell_type": "code",
   "execution_count": 17,
   "id": "184b8022",
   "metadata": {
    "execution": {
     "iopub.execute_input": "2023-02-12T03:33:44.142989Z",
     "iopub.status.busy": "2023-02-12T03:33:44.141736Z",
     "iopub.status.idle": "2023-02-12T03:33:47.912887Z",
     "shell.execute_reply": "2023-02-12T03:33:47.911372Z"
    },
    "papermill": {
     "duration": 3.787259,
     "end_time": "2023-02-12T03:33:47.914943",
     "exception": false,
     "start_time": "2023-02-12T03:33:44.127684",
     "status": "completed"
    },
    "tags": [],
    "vscode": {
     "languageId": "r"
    }
   },
   "outputs": [
    {
     "name": "stderr",
     "output_type": "stream",
     "text": [
      "Warning message:\n",
      "\"glm.fit: fitted probabilities numerically 0 or 1 occurred\"\n"
     ]
    }
   ],
   "source": [
    "model_lr <- glm(Class ~ ., data = trainData, family = \"binomial\")"
   ]
  },
  {
   "cell_type": "code",
   "execution_count": 18,
   "id": "3e8f1e38",
   "metadata": {
    "execution": {
     "iopub.execute_input": "2023-02-12T03:33:47.942714Z",
     "iopub.status.busy": "2023-02-12T03:33:47.941387Z",
     "iopub.status.idle": "2023-02-12T03:33:48.210842Z",
     "shell.execute_reply": "2023-02-12T03:33:48.209223Z"
    },
    "papermill": {
     "duration": 0.285085,
     "end_time": "2023-02-12T03:33:48.212510",
     "exception": false,
     "start_time": "2023-02-12T03:33:47.927425",
     "status": "completed"
    },
    "tags": [],
    "vscode": {
     "languageId": "r"
    }
   },
   "outputs": [
    {
     "data": {
      "text/plain": [
       "Area under the curve (AUC): 0.983"
      ]
     },
     "metadata": {},
     "output_type": "display_data"
    },
    {
     "data": {
      "image/png": "[encoded data removed]",
      "text/plain": [
       "Plot with title \"ROC curve\""
      ]
     },
     "metadata": {
      "image/png": {
       "height": 720,
       "width": 960
      }
     },
     "output_type": "display_data"
    }
   ],
   "source": [
    "model_lr_prediction <- predict(model_lr, newdata = testData, type = 'response') \n",
    "\n",
    "roc.curve(testData$Class, model_lr_prediction, plotit = TRUE)"
   ]
  },
  {
   "cell_type": "markdown",
   "id": "216f6948",
   "metadata": {
    "papermill": {
     "duration": 0.013454,
     "end_time": "2023-02-12T03:33:48.239152",
     "exception": false,
     "start_time": "2023-02-12T03:33:48.225698",
     "status": "completed"
    },
    "tags": []
   },
   "source": [
    "**4.2 Naive Bayes Classifier**\n",
    "\n",
    "<a id=\"Naive Bayes Classifier\"></a>"
   ]
  },
  {
   "cell_type": "code",
   "execution_count": 19,
   "id": "8d078335",
   "metadata": {
    "execution": {
     "iopub.execute_input": "2023-02-12T03:33:48.269202Z",
     "iopub.status.busy": "2023-02-12T03:33:48.267794Z",
     "iopub.status.idle": "2023-02-12T03:33:48.823171Z",
     "shell.execute_reply": "2023-02-12T03:33:48.821457Z"
    },
    "papermill": {
     "duration": 0.572686,
     "end_time": "2023-02-12T03:33:48.825523",
     "exception": false,
     "start_time": "2023-02-12T03:33:48.252837",
     "status": "completed"
    },
    "tags": [],
    "vscode": {
     "languageId": "r"
    }
   },
   "outputs": [],
   "source": [
    "NBmodCCF <- naiveBayes(Class ~ ., data = trainData, laplace = 1) "
   ]
  },
  {
   "cell_type": "code",
   "execution_count": 20,
   "id": "d3de5f16",
   "metadata": {
    "execution": {
     "iopub.execute_input": "2023-02-12T03:33:48.890529Z",
     "iopub.status.busy": "2023-02-12T03:33:48.889239Z",
     "iopub.status.idle": "2023-02-12T03:34:12.458401Z",
     "shell.execute_reply": "2023-02-12T03:34:12.456309Z"
    },
    "papermill": {
     "duration": 23.586308,
     "end_time": "2023-02-12T03:34:12.461028",
     "exception": false,
     "start_time": "2023-02-12T03:33:48.874720",
     "status": "completed"
    },
    "tags": [],
    "vscode": {
     "languageId": "r"
    }
   },
   "outputs": [
    {
     "data": {
      "text/plain": [
       "Area under the curve (AUC): 0.877"
      ]
     },
     "metadata": {},
     "output_type": "display_data"
    },
    {
     "data": {
      "image/png": "[encoded data removed]",
      "text/plain": [
       "Plot with title \"ROC curve\""
      ]
     },
     "metadata": {
      "image/png": {
       "height": 720,
       "width": 960
      }
     },
     "output_type": "display_data"
    }
   ],
   "source": [
    "model_nb_prediction <- predict(NBmodCCF, newdata = testData, type = \"class\")\n",
    "\n",
    "roc.curve(testData$Class, model_nb_prediction, plotit = TRUE)"
   ]
  },
  {
   "cell_type": "markdown",
   "id": "80da24ba",
   "metadata": {
    "papermill": {
     "duration": 0.01412,
     "end_time": "2023-02-12T03:34:12.490111",
     "exception": false,
     "start_time": "2023-02-12T03:34:12.475991",
     "status": "completed"
    },
    "tags": []
   },
   "source": [
    "**4.3 Decision Tree**\n",
    "\n",
    "<a id=\"Decision Tree\"></a>"
   ]
  },
  {
   "cell_type": "code",
   "execution_count": 21,
   "id": "1bec64b7",
   "metadata": {
    "execution": {
     "iopub.execute_input": "2023-02-12T03:34:12.521151Z",
     "iopub.status.busy": "2023-02-12T03:34:12.519963Z",
     "iopub.status.idle": "2023-02-12T03:34:17.610648Z",
     "shell.execute_reply": "2023-02-12T03:34:17.609122Z"
    },
    "papermill": {
     "duration": 5.108859,
     "end_time": "2023-02-12T03:34:17.613000",
     "exception": false,
     "start_time": "2023-02-12T03:34:12.504141",
     "status": "completed"
    },
    "tags": [],
    "vscode": {
     "languageId": "r"
    }
   },
   "outputs": [],
   "source": [
    "set.seed(123)\n",
    "\n",
    "DTmodCCF <- ctree(Class ~ .,\n",
    "                 data=trainData)"
   ]
  },
  {
   "cell_type": "code",
   "execution_count": 22,
   "id": "9cf1c7c5",
   "metadata": {
    "execution": {
     "iopub.execute_input": "2023-02-12T03:34:17.646537Z",
     "iopub.status.busy": "2023-02-12T03:34:17.645267Z",
     "iopub.status.idle": "2023-02-12T03:34:18.531980Z",
     "shell.execute_reply": "2023-02-12T03:34:18.530525Z"
    },
    "papermill": {
     "duration": 0.906378,
     "end_time": "2023-02-12T03:34:18.534322",
     "exception": false,
     "start_time": "2023-02-12T03:34:17.627944",
     "status": "completed"
    },
    "tags": [],
    "vscode": {
     "languageId": "r"
    }
   },
   "outputs": [
    {
     "data": {
      "text/plain": [
       "Area under the curve (AUC): 0.856"
      ]
     },
     "metadata": {},
     "output_type": "display_data"
    },
    {
     "data": {
      "image/png": "[encoded data removed]",
      "text/plain": [
       "Plot with title \"ROC curve\""
      ]
     },
     "metadata": {
      "image/png": {
       "height": 720,
       "width": 960
      }
     },
     "output_type": "display_data"
    }
   ],
   "source": [
    "model_ctree_prediction <- predict(DTmodCCF, newdata = testData, type = \"response\")\n",
    "\n",
    "roc.curve(testData$Class, model_ctree_prediction, plotit = TRUE)"
   ]
  },
  {
   "cell_type": "markdown",
   "id": "ef33723a",
   "metadata": {
    "papermill": {
     "duration": 0.015397,
     "end_time": "2023-02-12T03:34:18.565625",
     "exception": false,
     "start_time": "2023-02-12T03:34:18.550228",
     "status": "completed"
    },
    "tags": []
   },
   "source": [
    "#### **5. Results and Limitations**\n",
    "\n",
    "<a id=\"Results and Limitations\"></a>"
   ]
  },
  {
   "cell_type": "markdown",
   "id": "f715cde6",
   "metadata": {
    "papermill": {
     "duration": 0.015033,
     "end_time": "2023-02-12T03:34:18.595639",
     "exception": false,
     "start_time": "2023-02-12T03:34:18.580606",
     "status": "completed"
    },
    "tags": []
   },
   "source": [
    "The AUC performance results for the 3 models are as follows:\n",
    "\n",
    "- Logistic Regression: 0.983\n",
    "- Naive Bayes Classifier: 0.877\n",
    "- Decision Tree: 0.856\n",
    "\n",
    "Although the naive bayes classifier and decision tree performed well, logistic regression is the clear winner in this group. \n",
    "\n",
    "There are some limitations of the project that may be addressed in the future that may change the outcome. These would include:\n",
    "\n",
    "- Use of only 3 modelling techniques. If we add more modelling types in the future, there may be a model that performs even better than the LR model.\n",
    "- Lack of different sampling techniques. This is something I will learn more about and add to future projects. "
   ]
  },
  {
   "cell_type": "markdown",
   "id": "00d4f7ee",
   "metadata": {
    "papermill": {
     "duration": 0.014925,
     "end_time": "2023-02-12T03:34:18.625430",
     "exception": false,
     "start_time": "2023-02-12T03:34:18.610505",
     "status": "completed"
    },
    "tags": []
   },
   "source": [
    "### **6. Conclusion**\n",
    "\n",
    "<a id=\"Conclusion\"></a>"
   ]
  },
  {
   "cell_type": "markdown",
   "id": "0732026c",
   "metadata": {
    "papermill": {
     "duration": 0.015185,
     "end_time": "2023-02-12T03:34:18.655630",
     "exception": false,
     "start_time": "2023-02-12T03:34:18.640445",
     "status": "completed"
    },
    "tags": []
   },
   "source": [
    "In conclusion, this project aimed to develop machine learning models to detect credit card fraud. Three models were evaluated: Logistic Regression, Naive Bayes Classifier, and Decision Tree. The results showed that the Logistic Regression model achieved the highest AUC score of 0.983, while the Naive Bayes Classifier and Decision Tree models achieved AUC scores of 0.877 and 0.856, respectively.\n",
    "\n",
    "The high AUC score of the Logistic Regression model indicates that it is able to accurately distinguish between fraudulent and non-fraudulent transactions with a high degree of confidence. Both the Naive Bayes Classifier and Decision Tree models also demonstrated good performance, with AUC scores of 0.877 and 0.856.\n",
    "\n",
    "However, it is important to note that there are some limitations to the project, including the use of only three modeling techniques and the lack of different sampling techniques. These limitations could be addressed in future work to improve the performance of the models.\n",
    "\n",
    "Overall, the results of this project demonstrate the potential of machine learning models in detecting credit card fraud, and highlight the importance of continued research and development in this field. With the increasing prevalence of credit card fraud, it is essential to develop accurate and efficient methods for detecting and preventing fraud. This project provides a starting point for further research in this area, and offers insights into the potential of machine learning models for detecting credit card fraud."
   ]
  }
 ],
 "metadata": {
  "kernelspec": {
   "display_name": "R",
   "language": "R",
   "name": "ir"
  },
  "language_info": {
   "codemirror_mode": "r",
   "file_extension": ".r",
   "mimetype": "text/x-r-source",
   "name": "R",
   "pygments_lexer": "r",
   "version": "4.5.1"
  },
  "papermill": {
   "default_parameters": {},
   "duration": 100.755711,
   "end_time": "2023-02-12T03:34:18.891804",
   "environment_variables": {},
   "exception": null,
   "input_path": "__notebook__.ipynb",
   "output_path": "__notebook__.ipynb",
   "parameters": {},
   "start_time": "2023-02-12T03:32:38.136093",
   "version": "2.4.0"
  }
 },
 "nbformat": 4,
 "nbformat_minor": 5
}
